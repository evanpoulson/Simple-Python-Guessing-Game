{
 "cells": [
  {
   "cell_type": "code",
   "execution_count": 6,
   "id": "dfbcc4c1",
   "metadata": {},
   "outputs": [
    {
     "name": "stdout",
     "output_type": "stream",
     "text": [
      "60\n"
     ]
    }
   ],
   "source": [
    "#import randint to produce a random number for guessing game\n",
    "from random import randint\n",
    "random_int = randint(1,100)\n",
    "print(random_int)\n",
    "\n",
    "\n",
    "\n",
    "\n"
   ]
  },
  {
   "cell_type": "code",
   "execution_count": 7,
   "id": "3899d3d9",
   "metadata": {},
   "outputs": [],
   "source": [
    "#list for all wrong guesses\n",
    "guess_lst = [0]"
   ]
  },
  {
   "cell_type": "code",
   "execution_count": 8,
   "id": "bb1c051c",
   "metadata": {},
   "outputs": [
    {
     "name": "stdout",
     "output_type": "stream",
     "text": [
      "WELCOME TO THE RANDOM NUMBER GUESSING GAME! \n",
      "The rules are simple, guess a number between 1 and 100 and if youre correct, you win! \n",
      "If not, keep guessing until you get it right!\n"
     ]
    }
   ],
   "source": [
    "#print the rules of the game\n",
    "print(\"WELCOME TO THE RANDOM NUMBER GUESSING GAME! \\nThe rules are simple, guess a number between 1 and 100 and if youre correct, you win! \\nIf not, keep guessing until you get it right!\")"
   ]
  },
  {
   "cell_type": "code",
   "execution_count": 9,
   "id": "da2ff4dc",
   "metadata": {},
   "outputs": [
    {
     "name": "stdout",
     "output_type": "stream",
     "text": [
      "What is your guess?80\n",
      "Cold\n",
      "What is your guess?81\n",
      "Colder\n",
      "What is your guess?76\n",
      "Warmer\n",
      "What is your guess?60\n",
      "You guessed correctly! It only took you 4 guesses!\n"
     ]
    }
   ],
   "source": [
    "while True:\n",
    "    # input to test the guess against the random number\n",
    "    guess = int(input('What is your guess?'))\n",
    "    \n",
    "    #test guess against the random number\n",
    "    if guess == random_int:\n",
    "        print(f'You guessed correctly! It only took you {len(guess_lst)} guesses!')\n",
    "        break\n",
    "    \n",
    "    #testing to make sure guess is within bounds\n",
    "    elif guess < 1 or guess > 100:\n",
    "        print('Out of bounds!')\n",
    "        break\n",
    "    \n",
    "    # if guess is wrong, append it to the list of guesses\n",
    "    guess_lst.append(guess)\n",
    "    \n",
    "    #checking to see if guess is the first, or one of the subsequent guesses\n",
    "    #if guess[-2] == false, then it's the first guess because [-2] would be zero, which evaluates to false\n",
    "    if guess_lst[-2]:\n",
    "        if abs(guess - random_int) < abs(guess_lst[-2] - random_int):\n",
    "            print('Warmer!')\n",
    "            continue\n",
    "        else:\n",
    "            print('Colder')\n",
    "            continue\n",
    "    else: \n",
    "        if abs(guess - random_int) <= 10:\n",
    "            print('Warm :)')\n",
    "            continue\n",
    "        else:\n",
    "            print('Cold :(')\n",
    "            continue\n",
    "        \n",
    "        \n",
    "    "
   ]
  },
  {
   "cell_type": "code",
   "execution_count": null,
   "id": "3ead53e1",
   "metadata": {},
   "outputs": [],
   "source": []
  }
 ],
 "metadata": {
  "kernelspec": {
   "display_name": "Python 3 (ipykernel)",
   "language": "python",
   "name": "python3"
  },
  "language_info": {
   "codemirror_mode": {
    "name": "ipython",
    "version": 3
   },
   "file_extension": ".py",
   "mimetype": "text/x-python",
   "name": "python",
   "nbconvert_exporter": "python",
   "pygments_lexer": "ipython3",
   "version": "3.10.9"
  }
 },
 "nbformat": 4,
 "nbformat_minor": 5
}
